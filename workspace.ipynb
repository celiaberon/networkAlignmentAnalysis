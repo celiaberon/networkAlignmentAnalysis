{
 "cells": [
  {
   "cell_type": "code",
   "execution_count": 1,
   "metadata": {},
   "outputs": [
    {
     "name": "stdout",
     "output_type": "stream",
     "text": [
      "using device:  cpu\n"
     ]
    }
   ],
   "source": [
    "%reload_ext autoreload\n",
    "%autoreload 2\n",
    "\n",
    "# %matplotlib qt\n",
    "\n",
    "import time\n",
    "from tqdm import tqdm\n",
    "import numpy as np\n",
    "import scipy as sp\n",
    "import sklearn\n",
    "import torch\n",
    "import torch.nn.functional as F\n",
    "from torch import nn\n",
    "from torchvision.transforms import v2 as transforms\n",
    "\n",
    "from matplotlib import pyplot as plt\n",
    "\n",
    "from networkAlignmentAnalysis.models.registry import get_model\n",
    "from networkAlignmentAnalysis.datasets import get_dataset\n",
    "from networkAlignmentAnalysis.experiments.registry import get_experiment\n",
    "from networkAlignmentAnalysis import utils\n",
    "from networkAlignmentAnalysis import files\n",
    "from networkAlignmentAnalysis import train\n",
    "\n",
    "DEVICE = 'cuda' if torch.cuda.is_available() else 'cpu'\n",
    "print('using device: ', DEVICE)"
   ]
  },
  {
   "cell_type": "code",
   "execution_count": 3,
   "metadata": {},
   "outputs": [],
   "source": [
    "# TODO\n",
    "# 1.1. include additional AlignmentModel methods stored in extra class in base model\n",
    "\n",
    "# Basic alignment_comparison Analyses (or maybe for alignment_stats):\n",
    "# - compare initial to final alignment...\n",
    "# - compare initial alignment to delta weight norm...\n",
    "# - observe alignment of delta weight\n",
    "# - compare alignment to outgoing delta weight norm!\n",
    "\n",
    "# Eigenfeature analyses:\n",
    "# done: - start by just looking at amplitude of activity on each eigenvector within each layer\n",
    "# done: - Determine contribution of each eigenfeature on performance with a eigenvector dropout experiment\n",
    "# - Measure beta_adversarial (figure out how adversarial examples map onto eigenvectors)\n",
    "\n",
    "# forward_eigenvector_dropout is slow... maybe because cpu->gpu overhead? \n",
    "\n",
    "# Consider Valentin's idea about measuring an error threshold given signal and noise for a given level of alignment\n",
    "# e.g. plot a 2d heatmap comparing the noise amplitude and the average alignment\n",
    "# and then think about how to apply this to network design...\n",
    "\n",
    "# convert batch_cov to allow for batch_corr too (and make it \"smart\" with zero-var handling)\n",
    "# integrate batched alignment into pipeline  (there's test code in the tests directory)"
   ]
  },
  {
   "cell_type": "code",
   "execution_count": 17,
   "metadata": {},
   "outputs": [
    {
     "name": "stdout",
     "output_type": "stream",
     "text": [
      "Not using distributed training\n",
      "training networks...\n"
     ]
    },
    {
     "name": "stderr",
     "output_type": "stream",
     "text": [
      "training epoch: 100%|██████████| 2/2 [00:47<00:00, 23.98s/it]\n"
     ]
    },
    {
     "name": "stdout",
     "output_type": "stream",
     "text": [
      "testing networks...\n"
     ]
    },
    {
     "name": "stderr",
     "output_type": "stream",
     "text": [
      "100%|██████████| 10/10 [00:07<00:00,  1.27it/s]\n"
     ]
    }
   ],
   "source": [
    "from networkAlignmentAnalysis.experiments.alignment_stats import AlignmentStatistics\n",
    "from networkAlignmentAnalysis import processing\n",
    "\n",
    "expmt = AlignmentStatistics(args=['--network', 'MLP', '--epochs', '2', '--optimizer', 'SGD', '--replicates', '2'])#, '--use_prev'])\n",
    "\n",
    "# load networks \n",
    "nets, optimizers, prms = expmt.load_networks()\n",
    "\n",
    "# load dataset\n",
    "dataset = get_dataset(expmt.args.dataset,\n",
    "                      build=True,\n",
    "                      transform_parameters=nets[0],\n",
    "                      device=expmt.args.device)\n",
    "\n",
    "# train networks\n",
    "train_results, test_results = processing.train_networks(expmt, nets, optimizers, dataset)\n",
    "\n",
    "alignment_dims = utils.get_alignment_dims(nets, dataset, 3,\n",
    "                                    use_train=True)\n",
    "print(f'expected alignment dimensions are: {alignment_dims}')\n",
    "full_alignment = [[torch.zeros(layer_dims, dtype=torch.float, device='cpu') for layer_dims in alignment_dims]\n",
    "                    for proc in range(3)]"
   ]
  },
  {
   "cell_type": "code",
   "execution_count": 9,
   "metadata": {},
   "outputs": [],
   "source": [
    "model_name = 'CNN2P2'\n",
    "dataset_name = 'MNIST'\n",
    "\n",
    "net = get_model(model_name, build=True, dataset=dataset_name, dropout=0.0, ignore_flag=False)\n",
    "net.to(DEVICE)\n",
    "\n",
    "loader_parameters = dict(\n",
    "    shuffle=True,\n",
    ")\n",
    "dataset = get_dataset(dataset_name, build=True, transform_parameters=net, loader_parameters=loader_parameters, device=DEVICE)"
   ]
  },
  {
   "cell_type": "code",
   "execution_count": 52,
   "metadata": {},
   "outputs": [
    {
     "data": {
      "text/plain": [
       "tensor(nan)"
      ]
     },
     "execution_count": 52,
     "metadata": {},
     "output_type": "execute_result"
    }
   ],
   "source": [
    "# test \"alignment\" metric of Maennel\n",
    "def metric(data, weight):\n",
    "    # data is (batch, D)\n",
    "    # weight is (M, D)\n",
    "    # measures  sum_i sqrt((vi'Svi).(vi'S-1vi)) where S is W'W and vi are eigenvectors of D'D\n",
    "    S = torch.cov(weight.T)\n",
    "    Sinv = torch.inverse(S)\n",
    "    _, _, v = torch.linalg.svd(data, full_matrices=False)\n",
    "    upper = torch.sum((v @ S) * v, dim=1)\n",
    "    lower = torch.sum((v @ Sinv) * v, dim=1)\n",
    "    return torch.sum(torch.sqrt(upper/lower)) - 1\n",
    "\n",
    "B, M, D = 1000, 50, 100\n",
    "k = min(B, D)\n",
    "\n",
    "data = torch.normal(0, 1, (B, D))\n",
    "\n",
    "U, S, Vt = torch.linalg.svd(data, full_matrices=False)\n",
    "w_mix = torch.linalg.qr(torch.normal(0, 1, (D, M)))[0].T\n",
    "weight = w_mix @ torch.diag(S) @ Vt\n",
    "\n",
    "weight_aligned = Vt\n",
    "\n",
    "# weight = torch.normal(0, 1, (M, D))\n",
    "metric(data, weight)"
   ]
  },
  {
   "cell_type": "code",
   "execution_count": 43,
   "metadata": {},
   "outputs": [
    {
     "data": {
      "text/plain": [
       "torch.Size([100, 50])"
      ]
     },
     "execution_count": 43,
     "metadata": {},
     "output_type": "execute_result"
    }
   ],
   "source": [
    "w_mix.shape"
   ]
  },
  {
   "cell_type": "code",
   "execution_count": null,
   "metadata": {},
   "outputs": [],
   "source": []
  },
  {
   "cell_type": "code",
   "execution_count": 16,
   "metadata": {},
   "outputs": [
    {
     "name": "stdout",
     "output_type": "stream",
     "text": [
      "[torch.Size([100, 784]), torch.Size([100, 100]), torch.Size([50, 100]), torch.Size([10, 50])]\n"
     ]
    }
   ],
   "source": [
    "weights = net.get_alignment_weights()\n",
    "print([w.shape for w in weights])\n",
    "\n",
    "def get_invar(inputs_to_layers, weights):\n",
    "    invar = []\n",
    "    for i, w in zip(inputs_to_layers, weights):\n",
    "        a = torch.matmul(i, w.T)\n",
    "        invar.append(torch.var(a, dim=0))\n",
    "    return invar\n",
    "\n",
    "def get_outvar(outputs_from_layers):\n",
    "    return [torch.var(o, dim=0) for o in outputs_from_layers]\n",
    "\n",
    "inputs = []\n",
    "for batch in dataset.test_loader:\n",
    "    image, label = dataset.unwrap_batch(batch)\n",
    "    inputs.append(image)\n",
    "inputs = torch.cat(inputs, dim=0)\n",
    "\n",
    "whole = True\n",
    "with torch.no_grad():\n",
    "    if whole:\n",
    "        inputs_to_layers = net.get_layer_inputs(inputs, precomputed=False)\n",
    "        outputs_from_layers = net.get_layer_outputs(inputs, precomputed=True)\n",
    "        alignment = net.measure_alignment(inputs, precomputed=True)\n",
    "        inner_variance = get_invar(inputs_to_layers, weights)\n",
    "        outer_variance = get_outvar(outputs_from_layers)\n",
    "\n",
    "    else:\n",
    "        alignment = []\n",
    "        inner_variance = []\n",
    "        outer_variance = []\n",
    "        for batch in dataset.test_loader:\n",
    "            images, label = dataset.unwrap_batch(batch)\n",
    "            out = net(images, store_hidden=True)\n",
    "            inputs_to_layers = net.get_layer_inputs(images, precomputed=True)\n",
    "            outputs_from_layers = net.get_layer_outputs(images, precomputed=True)\n",
    "            alignment.append(net.measure_alignment(images, precomputed=True))\n",
    "            inner_variance.append(get_invar(inputs_to_layers, weights))\n",
    "            outer_variance.append(get_outvar(outputs_from_layers))\n",
    "\n",
    "        alignment = [torch.stack(a) for a in utils.transpose_list(alignment)]\n",
    "        inner_variance = [torch.stack(iv) for iv in utils.transpose_list(inner_variance)]\n",
    "        outer_variance = [torch.stack(ov) for ov in utils.transpose_list(outer_variance)]"
   ]
  },
  {
   "cell_type": "code",
   "execution_count": 41,
   "metadata": {},
   "outputs": [
    {
     "data": {
      "image/png": "[encoded data removed]",
      "text/plain": [
       "<Figure size 800x400 with 8 Axes>"
      ]
     },
     "metadata": {},
     "output_type": "display_data"
    }
   ],
   "source": [
    "num_layers = len(alignment)\n",
    "\n",
    "plt.close('all')\n",
    "fig, ax = plt.subplots(2, num_layers, figsize=(2*num_layers, num_layers), layout='constrained')\n",
    "for ii, (a, iv, ov) in enumerate(zip(alignment, inner_variance, outer_variance)):\n",
    "    ax[0, ii].scatter(a.cpu().numpy(), iv.cpu().numpy())\n",
    "    ax[1, ii].scatter(a.cpu().numpy(), ov.cpu().numpy())\n",
    "plt.show()"
   ]
  },
  {
   "cell_type": "code",
   "execution_count": null,
   "metadata": {},
   "outputs": [],
   "source": []
  },
  {
   "cell_type": "code",
   "execution_count": null,
   "metadata": {},
   "outputs": [],
   "source": []
  }
 ],
 "metadata": {
  "kernelspec": {
   "display_name": "networkAlignmentAnalysis",
   "language": "python",
   "name": "python3"
  },
  "language_info": {
   "codemirror_mode": {
    "name": "ipython",
    "version": 3
   },
   "file_extension": ".py",
   "mimetype": "text/x-python",
   "name": "python",
   "nbconvert_exporter": "python",
   "pygments_lexer": "ipython3",
   "version": "3.9.18 | packaged by conda-forge | (main, Dec 23 2023, 16:36:46) \n[Clang 16.0.6 ]"
  },
  "vscode": {
   "interpreter": {
    "hash": "145a7632351872a5cf5bac9c938322e5aecf0bbc96271ccae88ee0eac60dd862"
   }
  }
 },
 "nbformat": 4,
 "nbformat_minor": 2
}
