{
 "cells": [
  {
   "cell_type": "code",
   "execution_count": 1,
   "metadata": {},
   "outputs": [
    {
     "name": "stdout",
     "output_type": "stream",
     "text": [
      "using device:  cuda\n"
     ]
    }
   ],
   "source": [
    "%reload_ext autoreload\n",
    "%autoreload 2\n",
    "\n",
    "# %matplotlib qt\n",
    "\n",
    "import time\n",
    "from tqdm import tqdm\n",
    "import numpy as np\n",
    "import scipy as sp\n",
    "import sklearn\n",
    "import torch\n",
    "import torch.nn.functional as F\n",
    "from torch import nn\n",
    "from torchvision.transforms import v2 as transforms\n",
    "\n",
    "from matplotlib import pyplot as plt\n",
    "\n",
    "from networkAlignmentAnalysis.models.registry import get_model\n",
    "from networkAlignmentAnalysis.datasets import get_dataset\n",
    "from networkAlignmentAnalysis.experiments.registry import get_experiment\n",
    "from networkAlignmentAnalysis import utils\n",
    "from networkAlignmentAnalysis import files\n",
    "from networkAlignmentAnalysis import train\n",
    "\n",
    "DEVICE = 'cuda' if torch.cuda.is_available() else 'cpu'\n",
    "print('using device: ', DEVICE)"
   ]
  },
  {
   "cell_type": "code",
   "execution_count": 2,
   "metadata": {},
   "outputs": [],
   "source": [
    "# TODO\n",
    "# 1.1. include additional AlignmentModel methods stored in extra class in base model\n",
    "\n",
    "# Basic alignment_comparison Analyses (or maybe for alignment_stats):\n",
    "# - compare initial to final alignment...\n",
    "# - compare initial alignment to delta weight norm...\n",
    "# - observe alignment of delta weight\n",
    "# - compare alignment to outgoing delta weight norm!\n",
    "\n",
    "# Eigenfeature analyses:\n",
    "# done: - start by just looking at amplitude of activity on each eigenvector within each layer\n",
    "# done: - Determine contribution of each eigenfeature on performance with a eigenvector dropout experiment\n",
    "# - Measure beta_adversarial (figure out how adversarial examples map onto eigenvectors)\n",
    "\n",
    "# forward_eigenvector_dropout is slow... maybe because cpu->gpu overhead? \n",
    "\n",
    "# Consider Valentin's idea about measuring an error threshold given signal and noise for a given level of alignment\n",
    "# e.g. plot a 2d heatmap comparing the noise amplitude and the average alignment\n",
    "# and then think about how to apply this to network design...\n",
    "\n",
    "# convert batch_cov to allow for batch_corr too (and make it \"smart\" with zero-var handling)\n",
    "# integrate batched alignment into pipeline  (there's test code in the tests directory)"
   ]
  },
  {
   "cell_type": "code",
   "execution_count": 2,
   "metadata": {},
   "outputs": [],
   "source": [
    "args = ['--network', 'MLP', '--dataset', 'MNIST']\n",
    "expmt = get_experiment(\"alignment_stats\", build=True, args=args)\n",
    "nets = expmt.create_networks()[0]\n",
    "nets = expmt.load_networks(nets)"
   ]
  },
  {
   "cell_type": "code",
   "execution_count": null,
   "metadata": {},
   "outputs": [],
   "source": [
    "import glob\n",
    "import re\n",
    "from natsort import natsorted\n",
    "import torch\n",
    "\n",
    "# Define the path pattern\n",
    "path_pattern = r'C:\\Users\\andrew\\Documents\\machineLearning\\results\\alignment_stats\\MLP\\MNIST\\Adam\\net_*.pt'\n",
    "\n",
    "# Get list of matching file paths\n",
    "file_paths = glob.glob(path_pattern)\n",
    "\n",
    "# Extract indices from file names\n",
    "indices = [int(re.search(r'net_(\\d+)\\.pt', file_name).group(1)) for file_name in file_paths]\n",
    "\n",
    "# Sort the indices naturally\n",
    "sorted_indices = natsorted(indices)\n",
    "\n",
    "# Load the networks into a list in sorted order\n",
    "networks = [torch.load(file_paths[idx]) for idx in sorted_indices]\n"
   ]
  },
  {
   "cell_type": "code",
   "execution_count": 9,
   "metadata": {},
   "outputs": [
    {
     "name": "stdout",
     "output_type": "stream",
     "text": [
      "C:\\Users\\andrew\\Documents\\machineLearning\\results\n"
     ]
    }
   ],
   "source": [
    "model_path = files.results_path() / \"alignment_stats\"\n",
    "print(model_path)"
   ]
  },
  {
   "cell_type": "code",
   "execution_count": 9,
   "metadata": {},
   "outputs": [],
   "source": [
    "model_name = 'CNN2P2'\n",
    "dataset_name = 'MNIST'\n",
    "\n",
    "net = get_model(model_name, build=True, dataset=dataset_name, dropout=0.0, ignore_flag=False)\n",
    "net.to(DEVICE)\n",
    "\n",
    "loader_parameters = dict(\n",
    "    shuffle=True,\n",
    ")\n",
    "dataset = get_dataset(dataset_name, build=True, transform_parameters=net, loader_parameters=loader_parameters, device=DEVICE)"
   ]
  },
  {
   "cell_type": "code",
   "execution_count": null,
   "metadata": {},
   "outputs": [],
   "source": []
  },
  {
   "cell_type": "code",
   "execution_count": null,
   "metadata": {},
   "outputs": [],
   "source": []
  },
  {
   "cell_type": "code",
   "execution_count": 242,
   "metadata": {},
   "outputs": [
    {
     "name": "stdout",
     "output_type": "stream",
     "text": [
      "torch.Size([50, 100]) torch.Size([100, 100]) torch.Size([100, 100])\n",
      "tensor(-0.3147)\n",
      "tensor(-0.0100)\n",
      "tensor(7.8174)\n"
     ]
    }
   ],
   "source": [
    "# test \"alignment\" metric of Maennel\n",
    "def metric(data, weight):\n",
    "    # data is (batch, D)\n",
    "    # weight is (M, D)\n",
    "    # measures  sum_i sqrt((vi'Svi).(vi'S-1vi)) where S is W'W and vi are eigenvectors of D'D\n",
    "    S = torch.cov(weight.T)\n",
    "    Sinv = torch.linalg.pinv(S)\n",
    "    _, _, v = torch.linalg.svd(data, full_matrices=False)\n",
    "    upper = torch.sum((v @ S) * v, dim=1)\n",
    "    lower = torch.sum((v @ Sinv) * v, dim=1)\n",
    "    return torch.mean(torch.sqrt(upper*lower)) - 1\n",
    "\n",
    "def misalignment(data, weight):\n",
    "    pass\n",
    "\n",
    "B, M, D = 10000, 50, 100\n",
    "k = min(B, D)\n",
    "\n",
    "# create eigenstructure\n",
    "E = 1.1**(torch.linspace(1, -D+2, D))\n",
    "V = torch.linalg.qr(torch.normal(0, 1, (D, D)))[0]\n",
    "loading = torch.normal(0, 1, (B, D)) * torch.sqrt(E)\n",
    "data = loading @ V.T\n",
    "\n",
    "w, v = utils.smart_pca(data.T)\n",
    "U, S, Vt = torch.linalg.svd(data, full_matrices=False)\n",
    "\n",
    "beta = torch.normal((E**6).view(-1, 1).expand(-1, M), 0.1)\n",
    "weight = (V @ beta).T\n",
    "weight_aligned = Vt\n",
    "random_basis = torch.linalg.qr(torch.normal(0, 1, (D, D)))[0]\n",
    "weight_random = torch.normal(0, 1, (D, D)) @ random_basis\n",
    "\n",
    "# p = np.linspace(0, 1, 101)\n",
    "# m = np.zeros(101)\n",
    "# for ii, pp in enumerate(p):\n",
    "#     weight_partial = pp * weight_aligned + (1 - pp) * weight_random\n",
    "#     m[ii] = metric(data, weight_partial)\n",
    "\n",
    "print(weight.shape, weight_aligned.shape, weight_random.shape)\n",
    "\n",
    "print(metric(data, weight))\n",
    "print(metric(data, weight_aligned))\n",
    "print(metric(data, weight_random))\n",
    "# print(metric(data, weight_partial))\n",
    "# plt.plot(p, m)\n",
    "# plt.show()\n"
   ]
  },
  {
   "cell_type": "code",
   "execution_count": 230,
   "metadata": {},
   "outputs": [],
   "source": [
    "w, v = utils.smart_pca(data.T)"
   ]
  },
  {
   "cell_type": "code",
   "execution_count": 246,
   "metadata": {},
   "outputs": [
    {
     "data": {
      "text/plain": [
       "torch.Size([50, 100])"
      ]
     },
     "execution_count": 246,
     "metadata": {},
     "output_type": "execute_result"
    }
   ],
   "source": [
    "weight.shape"
   ]
  },
  {
   "cell_type": "code",
   "execution_count": 247,
   "metadata": {},
   "outputs": [
    {
     "name": "stdout",
     "output_type": "stream",
     "text": [
      "0 0.9999701         1.0791082 0.9266634 1.0791074 0.92669183\n",
      "1 0.99997514         1.0194153 0.98093015 1.0194142 0.98095554\n",
      "2 0.99997425         0.91170317 1.09682 0.9117031 1.0968482\n",
      "3 1.0000418         0.8340938 1.198956 0.834094 1.1989057\n",
      "4 0.99999744         0.7705323 1.2978008 0.77053106 1.2978063\n",
      "5 0.9999925         0.676635 1.4778905 0.6766347 1.4779023\n",
      "6 1.0000225         0.6201958 1.6124303 0.6201947 1.612397\n",
      "7 0.99996656         0.57039344 1.7531172 0.5703924 1.7531791\n",
      "8 1.0000181         0.5171787 1.9336026 0.51717836 1.933569\n",
      "9 1.0000385         0.46746764 2.139268 0.46746773 2.1391852\n",
      "10 1.0000231         0.42636058 2.3454869 0.4263604 2.3454335\n",
      "11 0.9999852         0.38485694 2.5983298 0.38485655 2.5983708\n",
      "\n",
      "0 3950.5066         4.4512453 887.5059\n",
      "1 5006.1846         4.6987267 1065.4343\n",
      "2 6044.5693         3.9549725 1528.3467\n",
      "3 6011.3228         5.9154806 1016.2019\n",
      "4 5184.68         4.465582 1161.0312\n",
      "5 4436.157         4.6420507 955.646\n",
      "6 5296.763         4.8301067 1096.6141\n",
      "7 7511.833         5.428122 1383.8733\n",
      "8 5046.117         4.9533515 1018.7279\n",
      "9 5646.6406         5.150161 1096.4009\n",
      "10 5319.2495         4.415283 1204.7357\n",
      "11 5857.9067         5.1273184 1142.4894\n"
     ]
    }
   ],
   "source": [
    "C = torch.cov(data.T)\n",
    "Cinv = torch.linalg.inv(C)\n",
    "\n",
    "VDV = v @ torch.diag(w) @ v.T\n",
    "VDVinv = v @ torch.diag(1/w) @ v.T\n",
    "\n",
    "ii = 0\n",
    "\n",
    "for ii, vv in enumerate(v.T):\n",
    "    upper = np.array(vv @ VDV @ vv.T)\n",
    "    lower = np.array(vv @ VDVinv @ vv.T)\n",
    "    print(ii, upper*lower, \"       \", upper, lower, np.array(w[ii]), np.array(1/w[ii]))\n",
    "    if ii > 10: break\n",
    "\n",
    "\n",
    "print('')\n",
    "\n",
    "for ii, vd in enumerate(weight):\n",
    "    upper = np.array(vd @ VDV @ vd.T)\n",
    "    lower = np.array(vd @ VDVinv @ vd.T)\n",
    "    print(ii, upper*lower, \"       \", upper, lower)\n",
    "    if ii > 10: break"
   ]
  },
  {
   "cell_type": "code",
   "execution_count": 210,
   "metadata": {},
   "outputs": [
    {
     "data": {
      "text/plain": [
       "torch.Size([100, 50])"
      ]
     },
     "execution_count": 210,
     "metadata": {},
     "output_type": "execute_result"
    }
   ],
   "source": [
    "beta.shape"
   ]
  },
  {
   "cell_type": "code",
   "execution_count": 115,
   "metadata": {},
   "outputs": [
    {
     "data": {
      "text/plain": [
       "<matplotlib.image.AxesImage at 0x16f9274d4f0>"
      ]
     },
     "execution_count": 115,
     "metadata": {},
     "output_type": "execute_result"
    },
    {
     "data": {
      "image/png": "[encoded data removed]",
      "text/plain": [
       "<Figure size 640x480 with 1 Axes>"
      ]
     },
     "metadata": {},
     "output_type": "display_data"
    }
   ],
   "source": [
    "S = torch.cov(weight.T)\n",
    "Sinv = torch.linalg.inv(S)\n",
    "plt.imshow(S @ Sinv)"
   ]
  },
  {
   "cell_type": "code",
   "execution_count": null,
   "metadata": {},
   "outputs": [],
   "source": []
  }
 ],
 "metadata": {
  "kernelspec": {
   "display_name": "networkAlignmentAnalysis",
   "language": "python",
   "name": "python3"
  },
  "language_info": {
   "codemirror_mode": {
    "name": "ipython",
    "version": 3
   },
   "file_extension": ".py",
   "mimetype": "text/x-python",
   "name": "python",
   "nbconvert_exporter": "python",
   "pygments_lexer": "ipython3",
   "version": "3.9.18"
  }
 },
 "nbformat": 4,
 "nbformat_minor": 2
}
