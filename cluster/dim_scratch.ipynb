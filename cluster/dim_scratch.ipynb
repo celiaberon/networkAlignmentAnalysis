{
 "cells": [
  {
   "cell_type": "code",
   "execution_count": 1,
   "metadata": {},
   "outputs": [],
   "source": [
    "import torch"
   ]
  },
  {
   "cell_type": "code",
   "execution_count": 84,
   "metadata": {},
   "outputs": [
    {
     "name": "stdout",
     "output_type": "stream",
     "text": [
      "expected alignment dimensions are: [(1, 3, 1), (1, 3, 1), (1, 3, 5), (1, 3, 10)]\n"
     ]
    }
   ],
   "source": [
    "reps = 1\n",
    "steps_per_epoch = 3\n",
    "epochs = 4\n",
    "alignment_dims = [(reps, steps_per_epoch, 1), (reps, steps_per_epoch, 1),\n",
    "                  (reps, steps_per_epoch, 5), (reps, steps_per_epoch, 10)]\n",
    "\n",
    "n_layers = len(alignment_dims)\n",
    "n_processes = 3\n",
    "print(f'expected alignment dimensions are: {alignment_dims}')\n",
    "full_alignment = [[[torch.zeros(layer_dims, dtype=torch.float, device='cpu')\n",
    "                    for proc in range(n_processes)]\n",
    "                    for layer_dims in alignment_dims]\n",
    "                    for step in range(epochs)]"
   ]
  },
  {
   "cell_type": "code",
   "execution_count": 73,
   "metadata": {},
   "outputs": [],
   "source": [
    "for i in range(epochs):\n",
    "    full_alignment.extend(full_alignment)"
   ]
  },
  {
   "cell_type": "code",
   "execution_count": 89,
   "metadata": {},
   "outputs": [
    {
     "data": {
      "text/plain": [
       "[torch.Size([1, 9, 1]),\n",
       " torch.Size([1, 9, 1]),\n",
       " torch.Size([1, 9, 5]),\n",
       " torch.Size([1, 9, 10])]"
      ]
     },
     "execution_count": 89,
     "metadata": {},
     "output_type": "execute_result"
    }
   ],
   "source": [
    "full_alignment = [[torch.zeros(layer_dims, dtype=torch.float, device='cpu')\n",
    "                    for proc in range(n_processes)]\n",
    "                    for layer_dims in alignment_dims]\n",
    "[torch.cat(layer, axis=1).shape for layer in full_alignment]\n"
   ]
  },
  {
   "cell_type": "code",
   "execution_count": 66,
   "metadata": {},
   "outputs": [],
   "source": [
    "cat_processes = [[torch.cat(i_step, axis=1).shape for i_step in layer] for layer in full_alignment]\n",
    "# print([step for step in cat_processes])"
   ]
  },
  {
   "cell_type": "code",
   "execution_count": 110,
   "metadata": {},
   "outputs": [],
   "source": [
    "tmp2 = [torch.cat(ilayer, axis=1) for ilayer in zip(*cat_processes)]\n",
    "[layer.shape for layer in tmp2]"
   ]
  },
  {
   "cell_type": "code",
   "execution_count": 123,
   "metadata": {},
   "outputs": [
    {
     "ename": "IndexError",
     "evalue": "index 1 is out of bounds for dimension 0 with size 1",
     "output_type": "error",
     "traceback": [
      "\u001b[0;31m---------------------------------------------------------------------------\u001b[0m",
      "\u001b[0;31mIndexError\u001b[0m                                Traceback (most recent call last)",
      "Cell \u001b[0;32mIn[123], line 5\u001b[0m\n\u001b[1;32m      1\u001b[0m [layer\u001b[39m.\u001b[39mshape \u001b[39mfor\u001b[39;00m layer \u001b[39min\u001b[39;00m tmp2]\n\u001b[1;32m      3\u001b[0m n_processes \u001b[39m=\u001b[39m \u001b[39m3\u001b[39m\n\u001b[0;32m----> 5\u001b[0m split_interval \u001b[39m=\u001b[39m [\u001b[39mlen\u001b[39m(layer[\u001b[39m1\u001b[39m]) \u001b[39m/\u001b[39m\u001b[39m/\u001b[39m n_processes \u001b[39mfor\u001b[39;00m layer \u001b[39min\u001b[39;00m tmp2]\n\u001b[1;32m      6\u001b[0m \u001b[39mprint\u001b[39m(split_interval)\n\u001b[1;32m      7\u001b[0m split_list \u001b[39m=\u001b[39m [[layer[\u001b[39m0\u001b[39m, :, :][\u001b[39mint\u001b[39m(i):\u001b[39mint\u001b[39m(i\u001b[39m+\u001b[39msplit_interval)] \u001b[39mfor\u001b[39;00m i \u001b[39min\u001b[39;00m torch\u001b[39m.\u001b[39marange(\u001b[39mlen\u001b[39m(layer))[::layer_split]] \u001b[39mfor\u001b[39;00m layer, layer_split \u001b[39min\u001b[39;00m \u001b[39mzip\u001b[39m(tmp2, split_interval)]\n",
      "Cell \u001b[0;32mIn[123], line 5\u001b[0m, in \u001b[0;36m<listcomp>\u001b[0;34m(.0)\u001b[0m\n\u001b[1;32m      1\u001b[0m [layer\u001b[39m.\u001b[39mshape \u001b[39mfor\u001b[39;00m layer \u001b[39min\u001b[39;00m tmp2]\n\u001b[1;32m      3\u001b[0m n_processes \u001b[39m=\u001b[39m \u001b[39m3\u001b[39m\n\u001b[0;32m----> 5\u001b[0m split_interval \u001b[39m=\u001b[39m [\u001b[39mlen\u001b[39m(layer[\u001b[39m1\u001b[39;49m]) \u001b[39m/\u001b[39m\u001b[39m/\u001b[39m n_processes \u001b[39mfor\u001b[39;00m layer \u001b[39min\u001b[39;00m tmp2]\n\u001b[1;32m      6\u001b[0m \u001b[39mprint\u001b[39m(split_interval)\n\u001b[1;32m      7\u001b[0m split_list \u001b[39m=\u001b[39m [[layer[\u001b[39m0\u001b[39m, :, :][\u001b[39mint\u001b[39m(i):\u001b[39mint\u001b[39m(i\u001b[39m+\u001b[39msplit_interval)] \u001b[39mfor\u001b[39;00m i \u001b[39min\u001b[39;00m torch\u001b[39m.\u001b[39marange(\u001b[39mlen\u001b[39m(layer))[::layer_split]] \u001b[39mfor\u001b[39;00m layer, layer_split \u001b[39min\u001b[39;00m \u001b[39mzip\u001b[39m(tmp2, split_interval)]\n",
      "\u001b[0;31mIndexError\u001b[0m: index 1 is out of bounds for dimension 0 with size 1"
     ]
    }
   ],
   "source": [
    "n_processes = 3\n",
    "\n",
    "split_interval = [len(layer[1]) // n_processes for layer in cat_processes]\n",
    "print(split_interval)\n",
    "split_list = [[layer[0, :, :][int(i):int(i+split_interval)] for i in torch.arange(len(layer))[::layer_split]] for layer, layer_split in zip(tmp2, split_interval)]"
   ]
  },
  {
   "cell_type": "code",
   "execution_count": 107,
   "metadata": {},
   "outputs": [],
   "source": [
    "tmp = torch.arange(36)\n",
    "n_processes = 3\n",
    "\n",
    "split_interval = len(tmp) // n_processes\n",
    "split_list = [tmp[int(i):int(i+split_interval)] for i in torch.arange(len(tmp))[::split_interval]]"
   ]
  },
  {
   "cell_type": "code",
   "execution_count": 108,
   "metadata": {},
   "outputs": [],
   "source": [
    "permuted_list = [torch.tensor(pair) for pair in zip(*split_list)]"
   ]
  },
  {
   "cell_type": "code",
   "execution_count": 70,
   "metadata": {},
   "outputs": [
    {
     "ename": "TypeError",
     "evalue": "cat(): argument 'tensors' (position 1) must be tuple of Tensors, not Tensor",
     "output_type": "error",
     "traceback": [
      "\u001b[0;31m---------------------------------------------------------------------------\u001b[0m",
      "\u001b[0;31mTypeError\u001b[0m                                 Traceback (most recent call last)",
      "Cell \u001b[0;32mIn[70], line 1\u001b[0m\n\u001b[0;32m----> 1\u001b[0m [[torch\u001b[39m.\u001b[39mcat(layer) \u001b[39mfor\u001b[39;00m layer \u001b[39min\u001b[39;00m step] \u001b[39mfor\u001b[39;00m step \u001b[39min\u001b[39;00m cat_processes]\n",
      "Cell \u001b[0;32mIn[70], line 1\u001b[0m, in \u001b[0;36m<listcomp>\u001b[0;34m(.0)\u001b[0m\n\u001b[0;32m----> 1\u001b[0m [[torch\u001b[39m.\u001b[39mcat(layer) \u001b[39mfor\u001b[39;00m layer \u001b[39min\u001b[39;00m step] \u001b[39mfor\u001b[39;00m step \u001b[39min\u001b[39;00m cat_processes]\n",
      "Cell \u001b[0;32mIn[70], line 1\u001b[0m, in \u001b[0;36m<listcomp>\u001b[0;34m(.0)\u001b[0m\n\u001b[0;32m----> 1\u001b[0m [[torch\u001b[39m.\u001b[39;49mcat(layer) \u001b[39mfor\u001b[39;00m layer \u001b[39min\u001b[39;00m step] \u001b[39mfor\u001b[39;00m step \u001b[39min\u001b[39;00m cat_processes]\n",
      "\u001b[0;31mTypeError\u001b[0m: cat(): argument 'tensors' (position 1) must be tuple of Tensors, not Tensor"
     ]
    }
   ],
   "source": [
    "[[torch.cat(layer) for layer in step] for step in cat_processes]"
   ]
  },
  {
   "cell_type": "code",
   "execution_count": null,
   "metadata": {},
   "outputs": [],
   "source": [
    "(n_layers, n_proc, layer_dims)"
   ]
  },
  {
   "cell_type": "code",
   "execution_count": 1,
   "metadata": {},
   "outputs": [],
   "source": [
    "import sys\n",
    "sys.path.append('/Users/celiaberon/GitHub/networkAlignmentAnalysis/')\n",
    "from networkAlignmentAnalysis.utils import get_list_dims\n",
    "import torch"
   ]
  },
  {
   "cell_type": "code",
   "execution_count": 2,
   "metadata": {},
   "outputs": [
    {
     "data": {
      "text/plain": [
       "((2, (2, (3,), (3,)), (2, (3,), (3,))), 18)"
      ]
     },
     "execution_count": 2,
     "metadata": {},
     "output_type": "execute_result"
    }
   ],
   "source": [
    "a = [[[0, 0, 0], [0, 0, 0]], [[1, 1, 1], [1, 1, 1]]]\n",
    "b = get_list_dims(a)\n",
    "b"
   ]
  },
  {
   "cell_type": "code",
   "execution_count": 3,
   "metadata": {},
   "outputs": [],
   "source": [
    "def get_dimensions(mixed_structure, preserve_arrays=True):\n",
    "    \"\"\"\n",
    "    A function to determine the dimensions of a mixed structure consisting\n",
    "    of nested lists and/or numpy arrays.\n",
    "\n",
    "    Args:\n",
    "    - mixed_structure: A nested structure potentially containing lists and numpy arrays\n",
    "\n",
    "    Returns:\n",
    "    - A tuple representing the dimensions of the mixed structure\n",
    "    \"\"\"\n",
    "    if isinstance(mixed_structure, torch.Tensor):\n",
    "        # Convert numpy array shape to a tuple and return\n",
    "        if preserve_arrays:\n",
    "            return (mixed_structure.shape,)\n",
    "        else:\n",
    "            return mixed_structure.shape\n",
    "    elif isinstance(mixed_structure, list):\n",
    "        # If it's a list, process each item\n",
    "        dimensions = []\n",
    "        for item in mixed_structure:\n",
    "            item_dims = get_dimensions(item)\n",
    "            # Only add item dimensions if they provide additional info\n",
    "            if item_dims:\n",
    "                dimensions.append(item_dims)\n",
    "        # Return a tuple with the length of the list and the dimensions found within\n",
    "        return (len(mixed_structure),) + tuple(dimensions)\n",
    "    else:\n",
    "        # Base case: reached an item that is neither a list nor an array\n",
    "        return ()"
   ]
  },
  {
   "cell_type": "code",
   "execution_count": 2,
   "metadata": {},
   "outputs": [
    {
     "ename": "NameError",
     "evalue": "name 'get_dimensions' is not defined",
     "output_type": "error",
     "traceback": [
      "\u001b[0;31m---------------------------------------------------------------------------\u001b[0m",
      "\u001b[0;31mNameError\u001b[0m                                 Traceback (most recent call last)",
      "Cell \u001b[0;32mIn[2], line 2\u001b[0m\n\u001b[1;32m      1\u001b[0m a \u001b[39m=\u001b[39m [[torch\u001b[39m.\u001b[39mzeros(\u001b[39m3\u001b[39m,\u001b[39m2\u001b[39m), torch\u001b[39m.\u001b[39mzeros(\u001b[39m3\u001b[39m,\u001b[39m2\u001b[39m)], [torch\u001b[39m.\u001b[39mzeros(\u001b[39m3\u001b[39m,\u001b[39m2\u001b[39m), torch\u001b[39m.\u001b[39mzeros(\u001b[39m3\u001b[39m,\u001b[39m2\u001b[39m)]]\n\u001b[0;32m----> 2\u001b[0m b \u001b[39m=\u001b[39m get_dimensions(a, preserve_arrays\u001b[39m=\u001b[39m\u001b[39mFalse\u001b[39;00m)\n\u001b[1;32m      3\u001b[0m b\n",
      "\u001b[0;31mNameError\u001b[0m: name 'get_dimensions' is not defined"
     ]
    }
   ],
   "source": [
    "a = [[torch.zeros(3,2), torch.zeros(3,2)], [torch.zeros(3,2), torch.zeros(3,2)]]\n",
    "b = get_dimensions(a, preserve_arrays=False)\n",
    "b"
   ]
  },
  {
   "cell_type": "code",
   "execution_count": 6,
   "metadata": {},
   "outputs": [
    {
     "data": {
      "text/plain": [
       "2"
      ]
     },
     "execution_count": 6,
     "metadata": {},
     "output_type": "execute_result"
    }
   ],
   "source": [
    "a = [[[0, 0, 0], [0, 0, 0]], [[1, 1, 1], [1, 1, 1]]]\n",
    "b = get_dimensions(a)\n",
    "b[0]"
   ]
  },
  {
   "cell_type": "code",
   "execution_count": 67,
   "metadata": {},
   "outputs": [
    {
     "name": "stdout",
     "output_type": "stream",
     "text": [
      "Zero structure matching 'a': [[tensor([[0., 0.],\n",
      "        [0., 0.],\n",
      "        [0., 0.]]), tensor([[0., 0.],\n",
      "        [0., 0.],\n",
      "        [0., 0.]])], [tensor([[0., 0.],\n",
      "        [0., 0.],\n",
      "        [0., 0.]]), tensor([[0., 0.],\n",
      "        [0., 0.],\n",
      "        [0., 0.]])]]\n",
      "Zero structure matching 'c':\n",
      "[[[0 0]\n",
      "  [0 0]]\n",
      "\n",
      " [[0 0]\n",
      "  [0 0]]]\n"
     ]
    }
   ],
   "source": [
    "\n",
    "import numpy as np\n",
    "\n",
    "def construct_zeros_obj(input, device='cpu'):\n",
    "    \"\"\"\n",
    "    Construct an object of zeros that matches the dimensions of the given nested list or array.\n",
    "    Returns a new object with the same structure as the input, filled with zeros.\n",
    "    \"\"\"\n",
    "\n",
    "    if isinstance(input, np.ndarray):\n",
    "        # For numpy arrays, create a zeros array with the same shape.\n",
    "        return np.zeros(input.shape, dtype=input.dtype)\n",
    "    elif isinstance(input, torch.Tensor):\n",
    "        # Same for tensors.\n",
    "        return torch.zeros(input.shape, dtype=input.dtype, device=device)\n",
    "    elif isinstance(input, list):\n",
    "        # For lists, recursively build a list structure.\n",
    "        return [construct_zeros_obj(item) for item in input]\n",
    "    else:\n",
    "        # Base case: reached a scalar value, replace it with 0.\n",
    "        return 0\n",
    "\n",
    "def replicate_dimension(input, target_dim, n_reps, current_dim=0):\n",
    "    \"\"\"\n",
    "    Introduce N replicates of a particular dimension in the given structure.\n",
    "    \n",
    "    Args:\n",
    "    - structure: The structure to replicate a dimension in.\n",
    "    - target_dim: The target dimension to replicate.\n",
    "    - n_reps: The number of times to replicate the target dimension.\n",
    "    - current_dim: The current dimension in the structure (used internally).\n",
    "    \n",
    "    Returns:\n",
    "    - The modified structure with the specified dimension replicated.\n",
    "    \"\"\"\n",
    "    if current_dim == target_dim:\n",
    "        return torch.cat([input for _ in range(n_reps)], dim=0)\n",
    "    else:\n",
    "        return [replicate_dimension(item, target_dim, n_reps, current_dim + 1) for item in input]\n",
    "\n",
    "a = [[torch.zeros(3,2), torch.zeros(3,2)], [torch.zeros(3,2), torch.zeros(3,2)]]\n",
    "b = construct_zeros_obj(a)\n",
    "\n",
    "c = np.array([[[1, 2], [3, 4]], [[5, 6], [7, 8]]])\n",
    "d = construct_zeros_obj(c)\n"
   ]
  },
  {
   "cell_type": "code",
   "execution_count": 69,
   "metadata": {},
   "outputs": [
    {
     "data": {
      "text/plain": [
       "[[tensor([[0., 0.],\n",
       "          [0., 0.],\n",
       "          [0., 0.],\n",
       "          [0., 0.],\n",
       "          [0., 0.],\n",
       "          [0., 0.],\n",
       "          [0., 0.],\n",
       "          [0., 0.],\n",
       "          [0., 0.]]),\n",
       "  tensor([[0., 0.],\n",
       "          [0., 0.],\n",
       "          [0., 0.],\n",
       "          [0., 0.],\n",
       "          [0., 0.],\n",
       "          [0., 0.],\n",
       "          [0., 0.],\n",
       "          [0., 0.],\n",
       "          [0., 0.]])],\n",
       " [tensor([[0., 0.],\n",
       "          [0., 0.],\n",
       "          [0., 0.],\n",
       "          [0., 0.],\n",
       "          [0., 0.],\n",
       "          [0., 0.],\n",
       "          [0., 0.],\n",
       "          [0., 0.],\n",
       "          [0., 0.]]),\n",
       "  tensor([[0., 0.],\n",
       "          [0., 0.],\n",
       "          [0., 0.],\n",
       "          [0., 0.],\n",
       "          [0., 0.],\n",
       "          [0., 0.],\n",
       "          [0., 0.],\n",
       "          [0., 0.],\n",
       "          [0., 0.]])]]"
      ]
     },
     "execution_count": 69,
     "metadata": {},
     "output_type": "execute_result"
    }
   ],
   "source": [
    "replicate_dimension(a, 2, 3)"
   ]
  },
  {
   "cell_type": "code",
   "execution_count": 65,
   "metadata": {},
   "outputs": [
    {
     "data": {
      "text/plain": [
       "(2,\n",
       " (2, (torch.Size([3, 6]),), (torch.Size([3, 6]),)),\n",
       " (2, (torch.Size([3, 6]),), (torch.Size([3, 6]),)))"
      ]
     },
     "execution_count": 65,
     "metadata": {},
     "output_type": "execute_result"
    }
   ],
   "source": [
    "get_list_dims(replicate_dimension(a, 2, 3))"
   ]
  },
  {
   "cell_type": "code",
   "execution_count": 61,
   "metadata": {},
   "outputs": [
    {
     "ename": "TypeError",
     "evalue": "expected Tensor as element 0 in argument 0, but got list",
     "output_type": "error",
     "traceback": [
      "\u001b[0;31m---------------------------------------------------------------------------\u001b[0m",
      "\u001b[0;31mTypeError\u001b[0m                                 Traceback (most recent call last)",
      "Cell \u001b[0;32mIn[61], line 1\u001b[0m\n\u001b[0;32m----> 1\u001b[0m [torch\u001b[39m.\u001b[39mcat(v[\u001b[39m0\u001b[39m]) \u001b[39mfor\u001b[39;00m v \u001b[39min\u001b[39;00m replicate_dimension(a, \u001b[39m0\u001b[39;49m, \u001b[39m3\u001b[39;49m)]\n",
      "Cell \u001b[0;32mIn[57], line 36\u001b[0m, in \u001b[0;36mreplicate_dimension\u001b[0;34m(input, target_dim, n_reps, current_dim)\u001b[0m\n\u001b[1;32m     23\u001b[0m \u001b[39m\u001b[39m\u001b[39m\"\"\"\u001b[39;00m\n\u001b[1;32m     24\u001b[0m \u001b[39mIntroduce N replicates of a particular dimension in the given structure.\u001b[39;00m\n\u001b[1;32m     25\u001b[0m \u001b[39m\u001b[39;00m\n\u001b[0;32m   (...)\u001b[0m\n\u001b[1;32m     33\u001b[0m \u001b[39m- The modified structure with the specified dimension replicated.\u001b[39;00m\n\u001b[1;32m     34\u001b[0m \u001b[39m\"\"\"\u001b[39;00m\n\u001b[1;32m     35\u001b[0m \u001b[39mif\u001b[39;00m current_dim \u001b[39m==\u001b[39m target_dim:\n\u001b[0;32m---> 36\u001b[0m     \u001b[39mreturn\u001b[39;00m torch\u001b[39m.\u001b[39;49mstack([\u001b[39minput\u001b[39;49m \u001b[39mfor\u001b[39;49;00m _ \u001b[39min\u001b[39;49;00m \u001b[39mrange\u001b[39;49m(n_reps)])\n\u001b[1;32m     37\u001b[0m \u001b[39melse\u001b[39;00m:\n\u001b[1;32m     38\u001b[0m     \u001b[39mreturn\u001b[39;00m [replicate_dimension(item, target_dim, n_reps, current_dim \u001b[39m+\u001b[39m \u001b[39m1\u001b[39m) \u001b[39mfor\u001b[39;00m item \u001b[39min\u001b[39;00m \u001b[39minput\u001b[39m]\n",
      "\u001b[0;31mTypeError\u001b[0m: expected Tensor as element 0 in argument 0, but got list"
     ]
    }
   ],
   "source": [
    "[torch.cat(v[0]) for v in replicate_dimension(a, 0, 3)]"
   ]
  },
  {
   "cell_type": "code",
   "execution_count": 4,
   "metadata": {},
   "outputs": [],
   "source": [
    "def get_nested_depth(list_of_lists, current_depth=0, target_type=torch.Tensor):\n",
    "\n",
    "    assert(target_type != list)\n",
    "    if isinstance(list_of_lists, target_type):\n",
    "        return current_depth\n",
    "    elif isinstance(list_of_lists, list):\n",
    "        for item in list_of_lists:\n",
    "            depth = get_nested_depth(item, current_depth+1)\n",
    "        if depth != -1:\n",
    "            return depth\n",
    "        \n",
    "    return -1"
   ]
  },
  {
   "cell_type": "code",
   "execution_count": 48,
   "metadata": {},
   "outputs": [
    {
     "data": {
      "text/plain": [
       "2"
      ]
     },
     "execution_count": 48,
     "metadata": {},
     "output_type": "execute_result"
    }
   ],
   "source": [
    "a = [[torch.zeros(3,2), torch.zeros(3,2)], [torch.zeros(3,2), torch.zeros(3,2)]]\n",
    "\n",
    "get_nested_depth(a)"
   ]
  },
  {
   "cell_type": "code",
   "execution_count": null,
   "metadata": {},
   "outputs": [],
   "source": []
  }
 ],
 "metadata": {
  "kernelspec": {
   "display_name": "networkAlignmentAnalysis",
   "language": "python",
   "name": "python3"
  },
  "language_info": {
   "codemirror_mode": {
    "name": "ipython",
    "version": 3
   },
   "file_extension": ".py",
   "mimetype": "text/x-python",
   "name": "python",
   "nbconvert_exporter": "python",
   "pygments_lexer": "ipython3",
   "version": "3.9.18 | packaged by conda-forge | (main, Dec 23 2023, 16:36:46) \n[Clang 16.0.6 ]"
  },
  "orig_nbformat": 4,
  "vscode": {
   "interpreter": {
    "hash": "145a7632351872a5cf5bac9c938322e5aecf0bbc96271ccae88ee0eac60dd862"
   }
  }
 },
 "nbformat": 4,
 "nbformat_minor": 2
}
