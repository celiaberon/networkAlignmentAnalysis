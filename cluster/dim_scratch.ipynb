{
 "cells": [
  {
   "cell_type": "code",
   "execution_count": 1,
   "metadata": {},
   "outputs": [],
   "source": [
    "import torch"
   ]
  },
  {
   "cell_type": "code",
   "execution_count": 4,
   "metadata": {},
   "outputs": [],
   "source": [
    "tmp = [torch.zeros((3,4)) for _ in range(2)]"
   ]
  },
  {
   "cell_type": "code",
   "execution_count": 17,
   "metadata": {},
   "outputs": [
    {
     "data": {
      "text/plain": [
       "tensor([[0., 0., 0.],\n",
       "        [0., 0., 0.]])"
      ]
     },
     "execution_count": 17,
     "metadata": {},
     "output_type": "execute_result"
    }
   ],
   "source": [
    "torch.stack(tmp).view(-1, 3)[:2]"
   ]
  },
  {
   "cell_type": "code",
   "execution_count": 2,
   "metadata": {},
   "outputs": [],
   "source": [
    "import torch"
   ]
  },
  {
   "cell_type": "code",
   "execution_count": 84,
   "metadata": {},
   "outputs": [
    {
     "name": "stdout",
     "output_type": "stream",
     "text": [
      "expected alignment dimensions are: [(1, 3, 1), (1, 3, 1), (1, 3, 5), (1, 3, 10)]\n"
     ]
    }
   ],
   "source": [
    "reps = 1\n",
    "steps_per_epoch = 3\n",
    "epochs = 4\n",
    "alignment_dims = [(reps, steps_per_epoch, 1), (reps, steps_per_epoch, 1),\n",
    "                  (reps, steps_per_epoch, 5), (reps, steps_per_epoch, 10)]\n",
    "\n",
    "n_layers = len(alignment_dims)\n",
    "n_processes = 3\n",
    "print(f'expected alignment dimensions are: {alignment_dims}')\n",
    "full_alignment = [[[torch.zeros(layer_dims, dtype=torch.float, device='cpu')\n",
    "                    for proc in range(n_processes)]\n",
    "                    for layer_dims in alignment_dims]\n",
    "                    for step in range(epochs)]"
   ]
  },
  {
   "cell_type": "code",
   "execution_count": 73,
   "metadata": {},
   "outputs": [],
   "source": [
    "for i in range(epochs):\n",
    "    full_alignment.extend(full_alignment)"
   ]
  },
  {
   "cell_type": "code",
   "execution_count": 66,
   "metadata": {},
   "outputs": [],
   "source": [
    "cat_processes = [[torch.cat(i_step, axis=1).shape for i_step in layer] for layer in full_alignment]\n",
    "# print([step for step in cat_processes])"
   ]
  },
  {
   "cell_type": "code",
   "execution_count": 85,
   "metadata": {},
   "outputs": [
    {
     "data": {
      "text/plain": [
       "[[torch.Size([1, 9, 1]),\n",
       "  torch.Size([1, 9, 1]),\n",
       "  torch.Size([1, 9, 5]),\n",
       "  torch.Size([1, 9, 10])],\n",
       " [torch.Size([1, 9, 1]),\n",
       "  torch.Size([1, 9, 1]),\n",
       "  torch.Size([1, 9, 5]),\n",
       "  torch.Size([1, 9, 10])],\n",
       " [torch.Size([1, 9, 1]),\n",
       "  torch.Size([1, 9, 1]),\n",
       "  torch.Size([1, 9, 5]),\n",
       "  torch.Size([1, 9, 10])],\n",
       " [torch.Size([1, 9, 1]),\n",
       "  torch.Size([1, 9, 1]),\n",
       "  torch.Size([1, 9, 5]),\n",
       "  torch.Size([1, 9, 10])]]"
      ]
     },
     "execution_count": 85,
     "metadata": {},
     "output_type": "execute_result"
    }
   ],
   "source": [
    "[[torch.cat(i_step, axis=1).shape for i_step in layer] for layer in full_alignment]\n"
   ]
  },
  {
   "cell_type": "code",
   "execution_count": 87,
   "metadata": {},
   "outputs": [
    {
     "data": {
      "text/plain": [
       "[torch.Size([1, 36, 1]),\n",
       " torch.Size([1, 36, 1]),\n",
       " torch.Size([1, 36, 5]),\n",
       " torch.Size([1, 36, 10])]"
      ]
     },
     "execution_count": 87,
     "metadata": {},
     "output_type": "execute_result"
    }
   ],
   "source": [
    "[torch.cat(ilayer, axis=1).shape for ilayer in zip(*cat_processes)]"
   ]
  },
  {
   "cell_type": "code",
   "execution_count": 125,
   "metadata": {},
   "outputs": [
    {
     "data": {
      "text/plain": [
       "False"
      ]
     },
     "execution_count": 125,
     "metadata": {},
     "output_type": "execute_result"
    }
   ],
   "source": [
    "'a' == 'b'"
   ]
  },
  {
   "cell_type": "code",
   "execution_count": 110,
   "metadata": {},
   "outputs": [],
   "source": [
    "tmp2 = [torch.cat(ilayer, axis=1) for ilayer in zip(*cat_processes)]"
   ]
  },
  {
   "cell_type": "code",
   "execution_count": 89,
   "metadata": {},
   "outputs": [
    {
     "data": {
      "text/plain": [
       "[torch.Size([1, 9, 1]),\n",
       " torch.Size([1, 9, 1]),\n",
       " torch.Size([1, 9, 5]),\n",
       " torch.Size([1, 9, 10])]"
      ]
     },
     "execution_count": 89,
     "metadata": {},
     "output_type": "execute_result"
    }
   ],
   "source": [
    "full_alignment = [[torch.zeros(layer_dims, dtype=torch.float, device='cpu')\n",
    "                    for proc in range(n_processes)]\n",
    "                    for layer_dims in alignment_dims]\n",
    "[torch.cat(layer, axis=1).shape for layer in full_alignment]\n"
   ]
  },
  {
   "cell_type": "code",
   "execution_count": 116,
   "metadata": {},
   "outputs": [
    {
     "data": {
      "text/plain": [
       "[torch.Size([1, 36, 1]),\n",
       " torch.Size([1, 36, 1]),\n",
       " torch.Size([1, 36, 5]),\n",
       " torch.Size([1, 36, 10])]"
      ]
     },
     "execution_count": 116,
     "metadata": {},
     "output_type": "execute_result"
    }
   ],
   "source": [
    "[layer.shape for layer in tmp2]"
   ]
  },
  {
   "cell_type": "code",
   "execution_count": 122,
   "metadata": {},
   "outputs": [
    {
     "data": {
      "text/plain": [
       "torch.Size([36, 1])"
      ]
     },
     "execution_count": 122,
     "metadata": {},
     "output_type": "execute_result"
    }
   ],
   "source": [
    "tmp2[0][0, :, :].shape"
   ]
  },
  {
   "cell_type": "code",
   "execution_count": 123,
   "metadata": {},
   "outputs": [
    {
     "ename": "IndexError",
     "evalue": "index 1 is out of bounds for dimension 0 with size 1",
     "output_type": "error",
     "traceback": [
      "\u001b[0;31m---------------------------------------------------------------------------\u001b[0m",
      "\u001b[0;31mIndexError\u001b[0m                                Traceback (most recent call last)",
      "Cell \u001b[0;32mIn[123], line 5\u001b[0m\n\u001b[1;32m      1\u001b[0m [layer\u001b[39m.\u001b[39mshape \u001b[39mfor\u001b[39;00m layer \u001b[39min\u001b[39;00m tmp2]\n\u001b[1;32m      3\u001b[0m n_processes \u001b[39m=\u001b[39m \u001b[39m3\u001b[39m\n\u001b[0;32m----> 5\u001b[0m split_interval \u001b[39m=\u001b[39m [\u001b[39mlen\u001b[39m(layer[\u001b[39m1\u001b[39m]) \u001b[39m/\u001b[39m\u001b[39m/\u001b[39m n_processes \u001b[39mfor\u001b[39;00m layer \u001b[39min\u001b[39;00m tmp2]\n\u001b[1;32m      6\u001b[0m \u001b[39mprint\u001b[39m(split_interval)\n\u001b[1;32m      7\u001b[0m split_list \u001b[39m=\u001b[39m [[layer[\u001b[39m0\u001b[39m, :, :][\u001b[39mint\u001b[39m(i):\u001b[39mint\u001b[39m(i\u001b[39m+\u001b[39msplit_interval)] \u001b[39mfor\u001b[39;00m i \u001b[39min\u001b[39;00m torch\u001b[39m.\u001b[39marange(\u001b[39mlen\u001b[39m(layer))[::layer_split]] \u001b[39mfor\u001b[39;00m layer, layer_split \u001b[39min\u001b[39;00m \u001b[39mzip\u001b[39m(tmp2, split_interval)]\n",
      "Cell \u001b[0;32mIn[123], line 5\u001b[0m, in \u001b[0;36m<listcomp>\u001b[0;34m(.0)\u001b[0m\n\u001b[1;32m      1\u001b[0m [layer\u001b[39m.\u001b[39mshape \u001b[39mfor\u001b[39;00m layer \u001b[39min\u001b[39;00m tmp2]\n\u001b[1;32m      3\u001b[0m n_processes \u001b[39m=\u001b[39m \u001b[39m3\u001b[39m\n\u001b[0;32m----> 5\u001b[0m split_interval \u001b[39m=\u001b[39m [\u001b[39mlen\u001b[39m(layer[\u001b[39m1\u001b[39;49m]) \u001b[39m/\u001b[39m\u001b[39m/\u001b[39m n_processes \u001b[39mfor\u001b[39;00m layer \u001b[39min\u001b[39;00m tmp2]\n\u001b[1;32m      6\u001b[0m \u001b[39mprint\u001b[39m(split_interval)\n\u001b[1;32m      7\u001b[0m split_list \u001b[39m=\u001b[39m [[layer[\u001b[39m0\u001b[39m, :, :][\u001b[39mint\u001b[39m(i):\u001b[39mint\u001b[39m(i\u001b[39m+\u001b[39msplit_interval)] \u001b[39mfor\u001b[39;00m i \u001b[39min\u001b[39;00m torch\u001b[39m.\u001b[39marange(\u001b[39mlen\u001b[39m(layer))[::layer_split]] \u001b[39mfor\u001b[39;00m layer, layer_split \u001b[39min\u001b[39;00m \u001b[39mzip\u001b[39m(tmp2, split_interval)]\n",
      "\u001b[0;31mIndexError\u001b[0m: index 1 is out of bounds for dimension 0 with size 1"
     ]
    }
   ],
   "source": [
    "[layer.shape for layer in tmp2]\n",
    "\n",
    "n_processes = 3\n",
    "\n",
    "split_interval = [len(layer[1]) // n_processes for layer in cat_processes]\n",
    "print(split_interval)\n",
    "split_list = [[layer[0, :, :][int(i):int(i+split_interval)] for i in torch.arange(len(layer))[::layer_split]] for layer, layer_split in zip(tmp2, split_interval)]"
   ]
  },
  {
   "cell_type": "code",
   "execution_count": null,
   "metadata": {},
   "outputs": [],
   "source": []
  },
  {
   "cell_type": "code",
   "execution_count": 107,
   "metadata": {},
   "outputs": [],
   "source": [
    "tmp = torch.arange(36)\n",
    "n_processes = 3\n",
    "\n",
    "split_interval = len(tmp) // n_processes\n",
    "split_list = [tmp[int(i):int(i+split_interval)] for i in torch.arange(len(tmp))[::split_interval]]"
   ]
  },
  {
   "cell_type": "code",
   "execution_count": 108,
   "metadata": {},
   "outputs": [],
   "source": [
    "permuted_list = [torch.tensor(pair) for pair in zip(*split_list)]"
   ]
  },
  {
   "cell_type": "code",
   "execution_count": 109,
   "metadata": {},
   "outputs": [
    {
     "data": {
      "text/plain": [
       "[tensor([ 0, 12, 24]),\n",
       " tensor([ 1, 13, 25]),\n",
       " tensor([ 2, 14, 26]),\n",
       " tensor([ 3, 15, 27]),\n",
       " tensor([ 4, 16, 28]),\n",
       " tensor([ 5, 17, 29]),\n",
       " tensor([ 6, 18, 30]),\n",
       " tensor([ 7, 19, 31]),\n",
       " tensor([ 8, 20, 32]),\n",
       " tensor([ 9, 21, 33]),\n",
       " tensor([10, 22, 34]),\n",
       " tensor([11, 23, 35])]"
      ]
     },
     "execution_count": 109,
     "metadata": {},
     "output_type": "execute_result"
    }
   ],
   "source": [
    "permuted_list"
   ]
  },
  {
   "cell_type": "code",
   "execution_count": 70,
   "metadata": {},
   "outputs": [
    {
     "ename": "TypeError",
     "evalue": "cat(): argument 'tensors' (position 1) must be tuple of Tensors, not Tensor",
     "output_type": "error",
     "traceback": [
      "\u001b[0;31m---------------------------------------------------------------------------\u001b[0m",
      "\u001b[0;31mTypeError\u001b[0m                                 Traceback (most recent call last)",
      "Cell \u001b[0;32mIn[70], line 1\u001b[0m\n\u001b[0;32m----> 1\u001b[0m [[torch\u001b[39m.\u001b[39mcat(layer) \u001b[39mfor\u001b[39;00m layer \u001b[39min\u001b[39;00m step] \u001b[39mfor\u001b[39;00m step \u001b[39min\u001b[39;00m cat_processes]\n",
      "Cell \u001b[0;32mIn[70], line 1\u001b[0m, in \u001b[0;36m<listcomp>\u001b[0;34m(.0)\u001b[0m\n\u001b[0;32m----> 1\u001b[0m [[torch\u001b[39m.\u001b[39mcat(layer) \u001b[39mfor\u001b[39;00m layer \u001b[39min\u001b[39;00m step] \u001b[39mfor\u001b[39;00m step \u001b[39min\u001b[39;00m cat_processes]\n",
      "Cell \u001b[0;32mIn[70], line 1\u001b[0m, in \u001b[0;36m<listcomp>\u001b[0;34m(.0)\u001b[0m\n\u001b[0;32m----> 1\u001b[0m [[torch\u001b[39m.\u001b[39;49mcat(layer) \u001b[39mfor\u001b[39;00m layer \u001b[39min\u001b[39;00m step] \u001b[39mfor\u001b[39;00m step \u001b[39min\u001b[39;00m cat_processes]\n",
      "\u001b[0;31mTypeError\u001b[0m: cat(): argument 'tensors' (position 1) must be tuple of Tensors, not Tensor"
     ]
    }
   ],
   "source": [
    "[[torch.cat(layer) for layer in step] for step in cat_processes]"
   ]
  },
  {
   "cell_type": "code",
   "execution_count": 32,
   "metadata": {},
   "outputs": [
    {
     "ename": "AttributeError",
     "evalue": "'list' object has no attribute 'shape'",
     "output_type": "error",
     "traceback": [
      "\u001b[0;31m---------------------------------------------------------------------------\u001b[0m",
      "\u001b[0;31mAttributeError\u001b[0m                            Traceback (most recent call last)",
      "Cell \u001b[0;32mIn[32], line 1\u001b[0m\n\u001b[0;32m----> 1\u001b[0m full_alignment[\u001b[39m0\u001b[39;49m]\u001b[39m.\u001b[39;49mshape\n",
      "\u001b[0;31mAttributeError\u001b[0m: 'list' object has no attribute 'shape'"
     ]
    }
   ],
   "source": [
    "full_alignment[0].shape"
   ]
  },
  {
   "cell_type": "code",
   "execution_count": 31,
   "metadata": {},
   "outputs": [
    {
     "data": {
      "text/plain": [
       "torch.Size([6, 3, 5])"
      ]
     },
     "execution_count": 31,
     "metadata": {},
     "output_type": "execute_result"
    }
   ],
   "source": [
    "torch.cat(full_alignment[2]).shape"
   ]
  },
  {
   "cell_type": "code",
   "execution_count": 28,
   "metadata": {},
   "outputs": [
    {
     "data": {
      "text/plain": [
       "[tensor([[[0., 0., 0.,  ..., 0., 0., 0.],\n",
       "          [0., 0., 0.,  ..., 0., 0., 0.],\n",
       "          [0., 0., 0.,  ..., 0., 0., 0.],\n",
       "          ...,\n",
       "          [0., 0., 0.,  ..., 0., 0., 0.],\n",
       "          [0., 0., 0.,  ..., 0., 0., 0.],\n",
       "          [0., 0., 0.,  ..., 0., 0., 0.]],\n",
       " \n",
       "         [[0., 0., 0.,  ..., 0., 0., 0.],\n",
       "          [0., 0., 0.,  ..., 0., 0., 0.],\n",
       "          [0., 0., 0.,  ..., 0., 0., 0.],\n",
       "          ...,\n",
       "          [0., 0., 0.,  ..., 0., 0., 0.],\n",
       "          [0., 0., 0.,  ..., 0., 0., 0.],\n",
       "          [0., 0., 0.,  ..., 0., 0., 0.]]]),\n",
       " tensor([[[0., 0., 0.,  ..., 0., 0., 0.],\n",
       "          [0., 0., 0.,  ..., 0., 0., 0.],\n",
       "          [0., 0., 0.,  ..., 0., 0., 0.],\n",
       "          ...,\n",
       "          [0., 0., 0.,  ..., 0., 0., 0.],\n",
       "          [0., 0., 0.,  ..., 0., 0., 0.],\n",
       "          [0., 0., 0.,  ..., 0., 0., 0.]],\n",
       " \n",
       "         [[0., 0., 0.,  ..., 0., 0., 0.],\n",
       "          [0., 0., 0.,  ..., 0., 0., 0.],\n",
       "          [0., 0., 0.,  ..., 0., 0., 0.],\n",
       "          ...,\n",
       "          [0., 0., 0.,  ..., 0., 0., 0.],\n",
       "          [0., 0., 0.,  ..., 0., 0., 0.],\n",
       "          [0., 0., 0.,  ..., 0., 0., 0.]]]),\n",
       " tensor([[[0., 0., 0.,  ..., 0., 0., 0.],\n",
       "          [0., 0., 0.,  ..., 0., 0., 0.],\n",
       "          [0., 0., 0.,  ..., 0., 0., 0.],\n",
       "          ...,\n",
       "          [0., 0., 0.,  ..., 0., 0., 0.],\n",
       "          [0., 0., 0.,  ..., 0., 0., 0.],\n",
       "          [0., 0., 0.,  ..., 0., 0., 0.]],\n",
       " \n",
       "         [[0., 0., 0.,  ..., 0., 0., 0.],\n",
       "          [0., 0., 0.,  ..., 0., 0., 0.],\n",
       "          [0., 0., 0.,  ..., 0., 0., 0.],\n",
       "          ...,\n",
       "          [0., 0., 0.,  ..., 0., 0., 0.],\n",
       "          [0., 0., 0.,  ..., 0., 0., 0.],\n",
       "          [0., 0., 0.,  ..., 0., 0., 0.]]]),\n",
       " tensor([[[0., 0., 0.,  ..., 0., 0., 0.],\n",
       "          [0., 0., 0.,  ..., 0., 0., 0.],\n",
       "          [0., 0., 0.,  ..., 0., 0., 0.],\n",
       "          ...,\n",
       "          [0., 0., 0.,  ..., 0., 0., 0.],\n",
       "          [0., 0., 0.,  ..., 0., 0., 0.],\n",
       "          [0., 0., 0.,  ..., 0., 0., 0.]],\n",
       " \n",
       "         [[0., 0., 0.,  ..., 0., 0., 0.],\n",
       "          [0., 0., 0.,  ..., 0., 0., 0.],\n",
       "          [0., 0., 0.,  ..., 0., 0., 0.],\n",
       "          ...,\n",
       "          [0., 0., 0.,  ..., 0., 0., 0.],\n",
       "          [0., 0., 0.,  ..., 0., 0., 0.],\n",
       "          [0., 0., 0.,  ..., 0., 0., 0.]]])]"
      ]
     },
     "execution_count": 28,
     "metadata": {},
     "output_type": "execute_result"
    }
   ],
   "source": [
    "[torch.cat(layer, dim=1) for layer in full_alignment]"
   ]
  },
  {
   "cell_type": "code",
   "execution_count": null,
   "metadata": {},
   "outputs": [],
   "source": [
    "(n_layers, n_proc, layer_dims)"
   ]
  }
 ],
 "metadata": {
  "kernelspec": {
   "display_name": "networkAlignmentAnalysis",
   "language": "python",
   "name": "python3"
  },
  "language_info": {
   "codemirror_mode": {
    "name": "ipython",
    "version": 3
   },
   "file_extension": ".py",
   "mimetype": "text/x-python",
   "name": "python",
   "nbconvert_exporter": "python",
   "pygments_lexer": "ipython3",
   "version": "3.9.18"
  },
  "orig_nbformat": 4,
  "vscode": {
   "interpreter": {
    "hash": "145a7632351872a5cf5bac9c938322e5aecf0bbc96271ccae88ee0eac60dd862"
   }
  }
 },
 "nbformat": 4,
 "nbformat_minor": 2
}
