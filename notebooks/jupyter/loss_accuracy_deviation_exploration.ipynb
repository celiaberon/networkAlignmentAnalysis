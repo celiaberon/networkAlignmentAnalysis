{
 "cells": [
  {
   "cell_type": "markdown",
   "metadata": {},
   "source": [
    "Steps are\n",
    "1. Load the full model at the end of the training from prms.pth\n",
    "2. Perform dropout for specific fractions of the high/random/low Rayleigh Quotient neurons\n",
    "3. For each iteration we are testing the 0-9, inputs and storing the prediction softmax weights\n",
    "4. Graph a confusion matrix/confidence\n",
    "5. Package it in an easy to understand way to explain it"
   ]
  }
 ],
 "metadata": {
  "language_info": {
   "name": "python"
  }
 },
 "nbformat": 4,
 "nbformat_minor": 2
}
